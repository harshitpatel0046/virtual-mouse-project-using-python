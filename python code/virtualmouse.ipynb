{
 "cells": [
  {
   "cell_type": "code",
   "execution_count": 3,
   "id": "20c59c92-4c6f-45f5-8a3f-39fe29089840",
   "metadata": {},
   "outputs": [],
   "source": [
    "import cv2 #opencv library  is used for real-time image and video processing for input values of our virtual mouse\n",
    "import mediapipe as mp\n",
    "import util\n",
    "import pyautogui\n",
    "import random\n",
    "from pynput.mouse import Button,Controller\n",
    "mouse=Controller()"
   ]
  },
  {
   "cell_type": "code",
   "execution_count": 4,
   "id": "eae47146-aade-4556-aae2-51195dcc74e0",
   "metadata": {},
   "outputs": [],
   "source": [
    "screen_width,screen_height=pyautogui.size()\n",
    "\n",
    "mpHands = mp.solutions.hands\n",
    "hands= mpHands.Hands(\n",
    "    static_image_mode=False,\n",
    "    model_complexity=1,\n",
    "    min_detection_confidence=0.7,\n",
    "    min_tracking_confidence=0.7,\n",
    "    max_num_hands = 1\n",
    ")"
   ]
  },
  {
   "cell_type": "code",
   "execution_count": 5,
   "id": "fa46d383-df94-4f58-bd14-f9fdc199e7b5",
   "metadata": {},
   "outputs": [],
   "source": [
    "def find_finger_tip(processed):\n",
    "    if processed.multi_hand_landmarks:\n",
    "     hand_landmarks = processed.multi_hand_landmarks[0]\n",
    "     return hand_landmarks.landmark[mpHands.HandLandmark.INDEX_FINGER_TIP]\n",
    "\n",
    "    return None"
   ]
  },
  {
   "cell_type": "code",
   "execution_count": 6,
   "id": "e6772a48-df8c-4a1f-86cc-c1762cbc3e3b",
   "metadata": {},
   "outputs": [],
   "source": [
    "def move_mouse(index_finger_tip):\n",
    "    if index_finger_tip is not None:\n",
    "        x= int(index_finger_tip.x *screen_width)\n",
    "        y= int(index_finger_tip.y *screen_width)\n",
    "        pyautogui.moveTo(x,y)"
   ]
  },
  {
   "cell_type": "code",
   "execution_count": 7,
   "id": "333380b9-1f0a-46f2-847b-286194f220b0",
   "metadata": {},
   "outputs": [],
   "source": [
    "def is_left_click(landmarks_list,thumb_index_dist):\n",
    "    return(util.get_angle(landmarks_list[5],landmarks_list[6],landmarks_list[8])<50 and\n",
    "           util.get_angle(landmarks_list[9],landmarks_list[10],landmarks_list[12])>90 and\n",
    "           thumb_index_dist >50\n",
    "          )\n",
    "\n",
    "def is_right_click(landmarks_list,thumb_index_dist):\n",
    "    return(util.get_angle(landmarks_list[9],landmarks_list[10],landmarks_list[12])<50 and\n",
    "           util.get_angle(landmarks_list[5],landmarks_list[6],landmarks_list[8])>90 and\n",
    "           thumb_index_dist >50\n",
    "          )\n",
    "\n",
    "def is_double_click(landmarks_list,thumb_index_dist):\n",
    "    return(util.get_angle(landmarks_list[5],landmarks_list[6],landmarks_list[8])<50 and\n",
    "           util.get_angle(landmarks_list[9],landmarks_list[10],landmarks_list[12])<50 and\n",
    "           thumb_index_dist >50\n",
    "          )\n",
    "\n",
    "def is_screenshot(landmarks_list,thumb_index_dist):\n",
    "    return(util.get_angle(landmarks_list[5],landmarks_list[6],landmarks_list[8])<50 and\n",
    "           util.get_angle(landmarks_list[9],landmarks_list[10],landmarks_list[12])<50 and\n",
    "           thumb_index_dist <50\n",
    "          )"
   ]
  },
  {
   "cell_type": "code",
   "execution_count": 8,
   "id": "b01f0854-62a7-4b92-8b89-f0bae30c5542",
   "metadata": {
    "scrolled": true
   },
   "outputs": [],
   "source": [
    "def detect_gestures(frame,landmarks_list,processed):\n",
    "    if len(landmarks_list)>=21:\n",
    "\n",
    "        index_finger_tip= find_finger_tip(processed)\n",
    "        thumb_index_dist = util.get_distance([landmarks_list[4],landmarks_list[5]])\n",
    "        if thumb_index_dist <50 and util.get_angle(landmarks_list[5],landmarks_list[6],landmarks_list[8])>90:\n",
    "            move_mouse(index_finger_tip)\n",
    "\n",
    "        #LEFT CLICK\n",
    "        elif is_left_click(landmarks_list,thumb_index_dist):\n",
    "            mouse.press(Button.left)\n",
    "            mouse.release(Button.left)\n",
    "            cv2.putText(frame, \"Left Click\",(50,50),cv2.FONT_HERSHEY_SIMPLEX,1,(24,0,255),2)\n",
    "            \n",
    "\n",
    "        #RIGH CLICK\n",
    "        elif is_right_click(landmarks_list,thumb_index_dist):\n",
    "            mouse.press(Button.right)\n",
    "            mouse.release(Button.right)\n",
    "            cv2.putText(frame, \"Right Click\",(50,50),cv2.FONT_HERSHEY_SIMPLEX,1,(233,23,255),2)\n",
    "\n",
    "\n",
    "        #DOUBLE CLICK\n",
    "        elif is_double_click(landmarks_list,thumb_index_dist):\n",
    "            pyautogui.doubleClick()\n",
    "            cv2.putText(frame, \"DOUBLE Click\",(50,50),cv2.FONT_HERSHEY_SIMPLEX,1,(3,23,25),2)\n",
    "\n",
    "\n",
    "        #SCREENSHOT\n",
    "        elif is_screenshot(landmarks_list,thumb_index_dist):\n",
    "            im1=pyautogui.screenshot()\n",
    "            label= random.randint(1,1000)\n",
    "            im1.save(f'my_screenshot_{label}.png')\n",
    "            cv2.putText(frame, \"SCREENSHOT\",(50,50),cv2.FONT_HERSHEY_SIMPLEX,1,(33,3,55),2)\n"
   ]
  },
  {
   "cell_type": "code",
   "execution_count": null,
   "id": "d8c47ccc-016b-49b7-997f-88cb40aa9aa7",
   "metadata": {},
   "outputs": [],
   "source": [
    "def main():\n",
    "    cap = cv2.VideoCapture(0)\n",
    "    draw= mp.solutions.drawing_utils\n",
    "    try:\n",
    "        while cap.isOpened():\n",
    "            ret, frame = cap.read()\n",
    "            if not ret:\n",
    "                break\n",
    "            frame = cv2.flip(frame,1)\n",
    "            frameRGB = cv2.cvtColor(frame,cv2.COLOR_BGR2RGB)\n",
    "            processed=hands.process(frameRGB)\n",
    "\n",
    "            landmarks_list=[]\n",
    "\n",
    "            if processed.multi_hand_landmarks:\n",
    "                hand_landmarks = processed.multi_hand_landmarks[0]\n",
    "                draw.draw_landmarks(frame,hand_landmarks, mpHands.HAND_CONNECTIONS)\n",
    "\n",
    "                for lm in hand_landmarks.landmark:\n",
    "                    landmarks_list.append((lm.x, lm.y))\n",
    "\n",
    "            detect_gestures(frame,landmarks_list,processed)\n",
    "\n",
    "            \n",
    "\n",
    "\n",
    "            \n",
    "            cv2.imshow(\"Frame\", frame)\n",
    "            if cv2.waitKey(1) & 0xFF ==ord('q'):\n",
    "                break\n",
    "    finally:\n",
    "        cap.release()\n",
    "        cv2.destroyAllWindows()\n",
    "        \n",
    "if __name__ == '__main__':\n",
    "    main()"
   ]
  },
  {
   "cell_type": "code",
   "execution_count": null,
   "id": "92fbf6a6-fa06-473d-886b-62d78321997d",
   "metadata": {},
   "outputs": [],
   "source": []
  },
  {
   "cell_type": "code",
   "execution_count": null,
   "id": "05e6db3c-2832-4a5b-b6db-b6609441ca80",
   "metadata": {},
   "outputs": [],
   "source": []
  },
  {
   "cell_type": "code",
   "execution_count": null,
   "id": "62e75e3c-065b-4409-8b5e-eb2a41f31c2c",
   "metadata": {},
   "outputs": [],
   "source": []
  },
  {
   "cell_type": "code",
   "execution_count": null,
   "id": "e902b105-efd4-4c9a-9043-33b3c16bfa18",
   "metadata": {},
   "outputs": [],
   "source": []
  }
 ],
 "metadata": {
  "kernelspec": {
   "display_name": "Python 3 (ipykernel)",
   "language": "python",
   "name": "python3"
  },
  "language_info": {
   "codemirror_mode": {
    "name": "ipython",
    "version": 3
   },
   "file_extension": ".py",
   "mimetype": "text/x-python",
   "name": "python",
   "nbconvert_exporter": "python",
   "pygments_lexer": "ipython3",
   "version": "3.12.7"
  }
 },
 "nbformat": 4,
 "nbformat_minor": 5
}
